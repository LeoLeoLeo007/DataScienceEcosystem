{
 "cells": [
  {
   "cell_type": "markdown",
   "metadata": {},
   "source": [
    "<center>\n",
    "    <img src=\"https://cf-courses-data.s3.us.cloud-object-storage.appdomain.cloud/IBMDeveloperSkillsNetwork-DS0105EN-SkillsNetwork/labs/Module2/images/SN_web_lightmode.png\" width=\"300\" alt=\"cognitiveclass.ai logo\">\n",
    "</center>\n"
   ]
  },
  {
   "cell_type": "markdown",
   "metadata": {},
   "source": [
    "#### Add your code below following the instructions given in the course\n"
   ]
  },
  {
   "cell_type": "markdown",
   "metadata": {},
   "source": [
    "# Data Science Tools and Ecosystem"
   ]
  },
  {
   "cell_type": "markdown",
   "metadata": {
    "tags": []
   },
   "source": [
    "## Author:\n",
    "Leonid Anuchin"
   ]
  },
  {
   "cell_type": "markdown",
   "metadata": {},
   "source": [
    "In this notebook, Data Science Tools and Ecosystem are summarized."
   ]
  },
  {
   "cell_type": "markdown",
   "metadata": {},
   "source": [
    "**Objectives:**\n",
    "- list popular languages for Data Science\n",
    "- list commonly used libraries used by Data Scientists\n",
    "- list open soure tools used by datascientists\n",
    "- show examples of using arithmetic expression with Python kernel\n",
    "- show exapmles of using markdowns"
   ]
  },
  {
   "cell_type": "markdown",
   "metadata": {},
   "source": [
    "Some of the popular languages that Data Scientists use are:\n",
    "1. Python - open source, clean and readable syntax. Plenty opportunities to Data Science, AI, ML, webdevelopment and IoT.\n",
    "2. Julia - free software, high performance language for math analyses and computer science;\n",
    "3. R - free software language, aimed firstly to work with mathematical and statistical data;\n",
    "4. SQL - language is aimed to work with relational databases, ISO standard with some pecularities depending on the system;\n",
    "5. Java - general purpose, object orientated language, good for building applications and real time processing data.\n",
    "6. Scala - \"easy Java\",  object-oriented programming and functional programming.\n",
    "7. C++ - general purpose language - improves processing speed, enables system programming, and provides broader control over the software application. Good to build real-time working applications.\n",
    "8. Ruby - flexible and fast, supports procedural, object-oriented, and functional programming. \n",
    "9. Go - high programming productivity on multicore networked machines and large databases. Readability and usability, run-time efficency."
   ]
  },
  {
   "cell_type": "markdown",
   "metadata": {},
   "source": [
    "Some of the commonly used libraries used by Data Scientists include:\n",
    "###### for Python\n",
    "1. NumPy - mathematical functions and data analyses, support for large, multi-dimensional arrays and matrices;\n",
    "2. SciPy - mathematical functions and data analyses, introducing  linear algebra, signal and image processing;\n",
    "3. pandas - data manipulations and analyses. Package very usefull to import data from various sources.\n",
    "4. altair (vega-altair) - powerfull data visualisations via histograms, bar charts, scatterplots, maps and etc. \n",
    "5. plotly - powerfull interactive data visualisations, compatible to web browsers\n",
    "6. matplotlib - flexible data visualisations;\n",
    "7. Natural language toolkit (nltk) - natutal language processing tools\n",
    "8. TensorFlow - machine learning and AI, with focus on deep neural networks.\n",
    "9. scikit.learn - machine learning, including algorithms for classification, regression and clustering\n",
    "10. PyTorch - machine learning, especcialy for computer vision and natural language processing.\n",
    "11. Keras -  interface for artificial neural networks\n",
    "###### for R\n",
    "1. dplyr - data manipulation, to make and change data in user friendly way\n",
    "2. Stringr - string manipulation\n",
    "3. caret - machine learning, training for comlex regressions and classifications\n",
    "4. ggplot - data visualisation via histograms, bar charts, scatterplots\n",
    "5. plotly - html compatible web visualisations\n",
    "6. lattice - complex multivariable datasets\n",
    "7. leaftlets - interactive plots\n",
    "###### for C++\n",
    "1. TensorFlow - machine learning and deap learning, \n",
    "2. Caffe - a deep learning algorithm repository built with C++ with Python and Matlab bindings\n",
    "3. Microsoft Cognitive Toolkit - machine learning and deep learning (works also for python, C, C++)\n",
    "4. MIT Information Extraction Toolkit - natutal language processing"
   ]
  },
  {
   "cell_type": "markdown",
   "metadata": {},
   "source": [
    "|Data Science Tools|\n",
    "|-----|\n",
    "|Jupyter Notebook (Jupyter Lab)|\n",
    "|Apache Zeppelin|\n",
    "|R Stydio|"
   ]
  },
  {
   "cell_type": "markdown",
   "metadata": {},
   "source": [
    "___\n",
    "### Below are a few exaples of evaluating arithmetic expressions in Python"
   ]
  },
  {
   "cell_type": "code",
   "execution_count": 1,
   "metadata": {
    "tags": []
   },
   "outputs": [
    {
     "data": {
      "text/plain": [
       "17"
      ]
     },
     "execution_count": 1,
     "metadata": {},
     "output_type": "execute_result"
    }
   ],
   "source": [
    "## This is a simple arithmetic expresson to multiply then add integers\n",
    "(3*4)+5"
   ]
  },
  {
   "cell_type": "code",
   "execution_count": 2,
   "metadata": {
    "tags": []
   },
   "outputs": [
    {
     "data": {
      "text/plain": [
       "3.3333333333333335"
      ]
     },
     "execution_count": 2,
     "metadata": {},
     "output_type": "execute_result"
    }
   ],
   "source": [
    "##This will convert 200 minutes to hours by dividing by 60\n",
    "200/60"
   ]
  },
  {
   "cell_type": "code",
   "execution_count": null,
   "metadata": {},
   "outputs": [],
   "source": []
  }
 ],
 "metadata": {
  "kernelspec": {
   "display_name": "Python 3 (ipykernel)",
   "language": "python",
   "name": "python3"
  },
  "language_info": {
   "codemirror_mode": {
    "name": "ipython",
    "version": 3
   },
   "file_extension": ".py",
   "mimetype": "text/x-python",
   "name": "python",
   "nbconvert_exporter": "python",
   "pygments_lexer": "ipython3",
   "version": "3.11.3"
  }
 },
 "nbformat": 4,
 "nbformat_minor": 4
}
